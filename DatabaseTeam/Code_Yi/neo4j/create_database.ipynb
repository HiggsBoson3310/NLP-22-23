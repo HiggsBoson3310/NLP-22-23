{
 "cells": [
  {
   "cell_type": "code",
   "execution_count": 3,
   "metadata": {},
   "outputs": [],
   "source": [
    "import pandas as pd"
   ]
  },
  {
   "cell_type": "code",
   "execution_count": 13,
   "metadata": {},
   "outputs": [
    {
     "name": "stdout",
     "output_type": "stream",
     "text": [
      "['BP_number', 'UPLC_parameters_table', 'UPLC_table', 'Wash_table', 'MS_paramters_table', 'Ions_table', nan, nan]\n"
     ]
    }
   ],
   "source": [
    "# prepare schema data and node property data\n",
    "schema_data = pd.read_csv(\"./schema/BP_triple.csv\")\n",
    "node_list = list(set(schema_data['node1'].values.tolist() + schema_data['node2'].values.tolist()))\n",
    "edge_data = zip(schema_data['node1'], schema_data['node2'], schema_data['relation'])\n",
    "property_data = pd.read_csv(\"./schema/BP_Nodes_Properties.csv\")\n",
    "print(property_data[node_list[0]].values.tolist())"
   ]
  }
 ],
 "metadata": {
  "kernelspec": {
   "display_name": "Python 3.7.0 64-bit",
   "language": "python",
   "name": "python3"
  },
  "language_info": {
   "codemirror_mode": {
    "name": "ipython",
    "version": 3
   },
   "file_extension": ".py",
   "mimetype": "text/x-python",
   "name": "python",
   "nbconvert_exporter": "python",
   "pygments_lexer": "ipython3",
   "version": "3.7.0"
  },
  "orig_nbformat": 4,
  "vscode": {
   "interpreter": {
    "hash": "46b9eef604ad2f8dcb5b5ac5e37016c503d9213565c1cbfe63eee46c0d41dfce"
   }
  }
 },
 "nbformat": 4,
 "nbformat_minor": 2
}
