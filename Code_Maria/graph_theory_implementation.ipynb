{
  "nbformat": 4,
  "nbformat_minor": 0,
  "metadata": {
    "colab": {
      "provenance": []
    },
    "kernelspec": {
      "name": "python3",
      "display_name": "Python 3"
    },
    "language_info": {
      "name": "python"
    }
  },
  "cells": [
    {
      "cell_type": "markdown",
      "source": [
        "There are several ways to represent graphs in Python. We list those that can be relevant for use in molecular generation. "
      ],
      "metadata": {
        "id": "vguagsGFEyL3"
      }
    },
    {
      "cell_type": "code",
      "execution_count": null,
      "metadata": {
        "id": "3VvAAI0uBrb0"
      },
      "outputs": [],
      "source": [
        "# graph represented as dictionary\n",
        "# keys are nodes and values for a key are nodes connected to the node in that key\n",
        "\n",
        "g = { \"A\" : {\"B\"},\n",
        "      \"B\" : {\"A\", \"C\"},\n",
        "      \"C\" : {\"B\"},\n",
        "      \"D\" : {\"B\", \"E\"},\n",
        "      \"E\" : {\"D\"},\n",
        "      \"F\" : {} # empty set of values: F is not connected to any nodes\n",
        "     }"
      ]
    },
    {
      "cell_type": "markdown",
      "source": [
        "We remark that molecules are defined to be conected graphs, so an isolated note like F wouldn't be allowed. It is still important to have functions to recognize and deal with nodes like F to take care of isolated nodes that may be formed after an action.  "
      ],
      "metadata": {
        "id": "tYbdisfUFzeR"
      }
    },
    {
      "cell_type": "code",
      "source": [
        "# given a graph, can get a list of all edges (i.e. a list of bonds in a molecule)\n",
        "\n",
        "def get_edges(graph):\n",
        "    edges = []\n",
        "\n",
        "    for node in graph:\n",
        "        for neighbour in graph[node]:\n",
        "            edges.append({node, neighbour})\n",
        "\n",
        "    return edges\n",
        "\n",
        "print(get_edges(g))"
      ],
      "metadata": {
        "colab": {
          "base_uri": "https://localhost:8080/"
        },
        "id": "VNOMYpaUE5-B",
        "outputId": "fa602436-1976-436f-9374-60eb496c6ed0"
      },
      "execution_count": null,
      "outputs": [
        {
          "output_type": "stream",
          "name": "stdout",
          "text": [
            "[{'B', 'A'}, {'B', 'A'}, {'B', 'C'}, {'B', 'C'}, {'B', 'D'}, {'D', 'E'}, {'D', 'E'}]\n"
          ]
        }
      ]
    },
    {
      "cell_type": "code",
      "source": [
        "# it can be useful to be able to find all isolated nodes, \n",
        "# for example to check that there isn't any after we perform an action\n",
        "\n",
        "def get_isolated_nodes(graph):\n",
        "    isolated_nodes = set()\n",
        "\n",
        "    for node in graph:\n",
        "        if not graph[node]:\n",
        "            isolated_nodes.add(node)\n",
        "    return isolated_nodes\n",
        "\n",
        "print(get_isolated_nodes(g))"
      ],
      "metadata": {
        "colab": {
          "base_uri": "https://localhost:8080/"
        },
        "id": "l4VUEGT7GR5o",
        "outputId": "2c72b647-01ee-4b13-9a8a-1303f3f8f6eb"
      },
      "execution_count": null,
      "outputs": [
        {
          "output_type": "stream",
          "name": "stdout",
          "text": [
            "{'F'}\n"
          ]
        }
      ]
    },
    {
      "cell_type": "markdown",
      "source": [
        "Below is a more comprehensive graph class. "
      ],
      "metadata": {
        "id": "oxoswf0xHQ1N"
      }
    },
    {
      "cell_type": "code",
      "source": [
        "class Graph(object):\n",
        "\n",
        "    def __init__(self, graph_dict=None):\n",
        "        \"\"\" Initializes graph object\n",
        "            If no dictionary or None is given, uses empty dictionary\n",
        "        \"\"\"\n",
        "        if graph_dict == None:\n",
        "            graph_dict = {}\n",
        "        self._graph_dict = graph_dict\n",
        "\n",
        "    def get_node_edges(self, node):\n",
        "        \"\"\" returns a list of all the edges connected to a node\"\"\"\n",
        "        return self._graph_dict[node]\n",
        "        \n",
        "    def all_nodes(self):\n",
        "        \"\"\" returns the set of all nodes of a graph \"\"\"\n",
        "        return set(self._graph_dict.keys())\n",
        "\n",
        "    def all_edges(self):\n",
        "        \"\"\" returns all edges of a graph \"\"\"\n",
        "        return get_edges(self)\n",
        "\n",
        "    def add_node(self, node):\n",
        "        \"\"\" If the node \"node\" is not in \n",
        "            self._graph_dict, a key \"node\" with an empty\n",
        "            list as a value is added to the dictionary. \n",
        "            Otherwise nothing is done. \n",
        "        \"\"\"\n",
        "        if node not in self._graph_dict:\n",
        "            self._graph_dict[node] = []\n",
        "\n",
        "    def add_edge(self, edge):\n",
        "        \"\"\" assumes that edge is of type set, tuple or list; \n",
        "            between two nodes there can be multiple edges\n",
        "        \"\"\"\n",
        "        edge = set(edge)\n",
        "        node1, node2 = tuple(edge)\n",
        "        for x, y in [(node1, node2), (node2, node1)]:\n",
        "            if x in self._graph_dict:\n",
        "                self._graph_dict[x].add(y)\n",
        "            else:\n",
        "                self._graph_dict[x] = [y]\n",
        "    \n",
        "    def remove_node(self, node):\n",
        "        \"\"\" If the node \"node\" is in \n",
        "            self._graph_dict, remove the key.  \n",
        "            Otherwise nothing is done. \n",
        "        \"\"\"\n",
        "        if node in self._graph_dict:\n",
        "            self._graph_dict.pop(node)\n",
        "  "
      ],
      "metadata": {
        "id": "MPeOq4iCKOJC"
      },
      "execution_count": null,
      "outputs": []
    },
    {
      "cell_type": "markdown",
      "source": [
        "Example: applying these functions to the example above. "
      ],
      "metadata": {
        "id": "-c7hIK4gIkaC"
      }
    },
    {
      "cell_type": "code",
      "source": [
        "print(g)"
      ],
      "metadata": {
        "colab": {
          "base_uri": "https://localhost:8080/"
        },
        "id": "JQfV5BKLwBmp",
        "outputId": "f3f4a6da-2cb5-4c3a-eb51-aaad7d786a5b"
      },
      "execution_count": null,
      "outputs": [
        {
          "output_type": "stream",
          "name": "stdout",
          "text": [
            "{'A': {'B'}, 'B': {'A', 'C'}, 'C': {'B'}, 'D': {'B', 'E'}, 'E': {'D'}, 'F': {}}\n"
          ]
        }
      ]
    },
    {
      "cell_type": "code",
      "source": [
        "graph = Graph(g)\n",
        "graph.get_node_edges(\"A\")"
      ],
      "metadata": {
        "colab": {
          "base_uri": "https://localhost:8080/"
        },
        "id": "lVe6rceyNrUs",
        "outputId": "96b37ca5-0bf0-4e25-e22d-519199c02aee"
      },
      "execution_count": null,
      "outputs": [
        {
          "output_type": "execute_result",
          "data": {
            "text/plain": [
              "{'B'}"
            ]
          },
          "metadata": {},
          "execution_count": 40
        }
      ]
    },
    {
      "cell_type": "code",
      "source": [
        "graph.all_nodes()"
      ],
      "metadata": {
        "colab": {
          "base_uri": "https://localhost:8080/"
        },
        "id": "aK1xVGQPN4cl",
        "outputId": "e018b100-733d-4945-8796-79af9c1e19e5"
      },
      "execution_count": null,
      "outputs": [
        {
          "output_type": "execute_result",
          "data": {
            "text/plain": [
              "{'A', 'B', 'C', 'D', 'E', 'F'}"
            ]
          },
          "metadata": {},
          "execution_count": 34
        }
      ]
    },
    {
      "cell_type": "code",
      "source": [
        "get_edges(g)"
      ],
      "metadata": {
        "colab": {
          "base_uri": "https://localhost:8080/"
        },
        "id": "wlj_qHfmvuKy",
        "outputId": "d89572ae-52f4-476f-8b58-d23a66259a4b"
      },
      "execution_count": null,
      "outputs": [
        {
          "output_type": "execute_result",
          "data": {
            "text/plain": [
              "[{'A', 'B'},\n",
              " {'A', 'B'},\n",
              " {'B', 'C'},\n",
              " {'B', 'C'},\n",
              " {'B', 'D'},\n",
              " {'D', 'E'},\n",
              " {'D', 'E'}]"
            ]
          },
          "metadata": {},
          "execution_count": 41
        }
      ]
    },
    {
      "cell_type": "code",
      "source": [
        "graph.add_node(\"H\")"
      ],
      "metadata": {
        "id": "D54YUmamw92X"
      },
      "execution_count": null,
      "outputs": []
    },
    {
      "cell_type": "code",
      "source": [
        "graph.all_nodes()"
      ],
      "metadata": {
        "colab": {
          "base_uri": "https://localhost:8080/"
        },
        "id": "7MgfUgRyxkbl",
        "outputId": "72fe16a3-9b4c-49d3-d152-3b54e84a681d"
      },
      "execution_count": null,
      "outputs": [
        {
          "output_type": "execute_result",
          "data": {
            "text/plain": [
              "{'A', 'B', 'C', 'D', 'E', 'F', 'H'}"
            ]
          },
          "metadata": {},
          "execution_count": 18
        }
      ]
    },
    {
      "cell_type": "code",
      "source": [
        "print(graph)"
      ],
      "metadata": {
        "colab": {
          "base_uri": "https://localhost:8080/"
        },
        "id": "erDD-WfzxmZM",
        "outputId": "6f3190df-360d-4c4c-8f82-d685d6b1c204"
      },
      "execution_count": null,
      "outputs": [
        {
          "output_type": "stream",
          "name": "stdout",
          "text": [
            "<__main__.Graph object at 0x7f02f4412e50>\n"
          ]
        }
      ]
    },
    {
      "cell_type": "code",
      "source": [
        "graph.add_edge({\"M\", \"L\"})"
      ],
      "metadata": {
        "id": "GTsGQpIVG_xO"
      },
      "execution_count": null,
      "outputs": []
    },
    {
      "cell_type": "code",
      "source": [
        "get_edges(g)"
      ],
      "metadata": {
        "colab": {
          "base_uri": "https://localhost:8080/"
        },
        "id": "FVDP0IzxHC3d",
        "outputId": "470c3bf1-f2ea-419c-8ae6-7b2e7a44fb38"
      },
      "execution_count": null,
      "outputs": [
        {
          "output_type": "execute_result",
          "data": {
            "text/plain": [
              "[{'A', 'B'},\n",
              " {'A', 'B'},\n",
              " {'B', 'C'},\n",
              " {'B', 'C'},\n",
              " {'B', 'D'},\n",
              " {'D', 'E'},\n",
              " {'D', 'E'},\n",
              " {'L', 'M'},\n",
              " {'L', 'M'}]"
            ]
          },
          "metadata": {},
          "execution_count": 45
        }
      ]
    },
    {
      "cell_type": "code",
      "source": [
        "graph.remove_node(\"A\")"
      ],
      "metadata": {
        "id": "ex2LKjHl3RcM"
      },
      "execution_count": null,
      "outputs": []
    },
    {
      "cell_type": "code",
      "source": [
        "graph.all_nodes()"
      ],
      "metadata": {
        "colab": {
          "base_uri": "https://localhost:8080/"
        },
        "id": "WADyLZ3b3Wpk",
        "outputId": "b7431136-3448-46b7-8b93-529aaf430754"
      },
      "execution_count": null,
      "outputs": [
        {
          "output_type": "execute_result",
          "data": {
            "text/plain": [
              "{'B', 'C', 'D', 'E', 'F', 'L', 'M'}"
            ]
          },
          "metadata": {},
          "execution_count": 47
        }
      ]
    },
    {
      "cell_type": "markdown",
      "source": [
        "MDP operations can be carried out this way, but this of course doens't ensure chemical validity. For that, the MolDQN uses functions built into RDKit. Our next step is to see if we can rephrase any of them or reuse them. "
      ],
      "metadata": {
        "id": "u-gXq88TK3Gk"
      }
    },
    {
      "cell_type": "code",
      "source": [
        "## anything specific to molecules that has been done?"
      ],
      "metadata": {
        "id": "UsCpzgkcSMBp"
      },
      "execution_count": null,
      "outputs": []
    }
  ]
}